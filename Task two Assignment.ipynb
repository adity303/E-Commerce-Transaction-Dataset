{
 "cells": [
  {
   "cell_type": "markdown",
   "id": "def96468",
   "metadata": {},
   "source": [
    "# Importing Liabraries "
   ]
  },
  {
   "cell_type": "code",
   "execution_count": 1,
   "id": "f572ef78",
   "metadata": {},
   "outputs": [],
   "source": [
    "import pandas as pd\n",
    "import numpy as np\n",
    "from sklearn.preprocessing import StandardScaler\n",
    "from sklearn.metrics.pairwise import cosine_similarity"
   ]
  },
  {
   "cell_type": "code",
   "execution_count": 2,
   "id": "e57f66d4",
   "metadata": {},
   "outputs": [],
   "source": [
    "# Load datasets\n",
    "customers = pd.read_csv('Customers.csv')\n",
    "products = pd.read_csv('Products.csv')\n",
    "transactions = pd.read_csv('Transactions.csv')"
   ]
  },
  {
   "cell_type": "markdown",
   "id": "e9bbbb74",
   "metadata": {},
   "source": [
    "# Convert dates to datetime format"
   ]
  },
  {
   "cell_type": "code",
   "execution_count": 3,
   "id": "99ff8f07",
   "metadata": {},
   "outputs": [],
   "source": [
    "customers['SignupDate'] = pd.to_datetime(customers['SignupDate'])\n",
    "transactions['TransactionDate'] = pd.to_datetime(transactions['TransactionDate'])"
   ]
  },
  {
   "cell_type": "markdown",
   "id": "8e4de52d",
   "metadata": {},
   "source": [
    "# Merge datasets"
   ]
  },
  {
   "cell_type": "code",
   "execution_count": 4,
   "id": "69c989f5",
   "metadata": {},
   "outputs": [],
   "source": [
    "merged_data = transactions.merge(customers, on='CustomerID').merge(products, on='ProductID')"
   ]
  },
  {
   "cell_type": "markdown",
   "id": "dd545140",
   "metadata": {},
   "source": [
    "# Merge data columns"
   ]
  },
  {
   "cell_type": "code",
   "execution_count": 6,
   "id": "785757e4",
   "metadata": {},
   "outputs": [
    {
     "name": "stdout",
     "output_type": "stream",
     "text": [
      "Index(['TransactionID', 'CustomerID', 'ProductID', 'TransactionDate',\n",
      "       'Quantity', 'TotalValue', 'Price_x', 'CustomerName', 'Region',\n",
      "       'SignupDate', 'ProductName', 'Category', 'Price_y'],\n",
      "      dtype='object')\n"
     ]
    }
   ],
   "source": [
    "print(merged_data.columns)"
   ]
  },
  {
   "cell_type": "code",
   "execution_count": 7,
   "id": "f53c9726",
   "metadata": {},
   "outputs": [],
   "source": [
    "merged_data = transactions.merge(customers, on='CustomerID').merge(products, on='ProductID')"
   ]
  },
  {
   "cell_type": "code",
   "execution_count": 8,
   "id": "af7afdfb",
   "metadata": {},
   "outputs": [
    {
     "name": "stdout",
     "output_type": "stream",
     "text": [
      "Index(['ProductID', 'ProductName', 'Category', 'Price'], dtype='object')\n",
      "Index(['TransactionID', 'CustomerID', 'ProductID', 'TransactionDate',\n",
      "       'Quantity', 'TotalValue', 'Price'],\n",
      "      dtype='object')\n"
     ]
    }
   ],
   "source": [
    "print(products.columns)\n",
    "print(transactions.columns)"
   ]
  },
  {
   "cell_type": "code",
   "execution_count": 10,
   "id": "ed2550d2",
   "metadata": {},
   "outputs": [],
   "source": [
    "merged_data['AvgPrice'] = merged_data['TotalValue'] / merged_data['Quantity']"
   ]
  },
  {
   "cell_type": "code",
   "execution_count": 11,
   "id": "58530a04",
   "metadata": {},
   "outputs": [],
   "source": [
    "customer_features = merged_data.groupby('CustomerID').agg({\n",
    "    'TotalValue': 'sum',\n",
    "    'Quantity': 'sum',\n",
    "    'AvgPrice': 'mean',  # Use the calculated AvgPrice\n",
    "    'ProductID': 'nunique'\n",
    "}).rename(columns={\n",
    "    'TotalValue': 'TotalSpent',\n",
    "    'Quantity': 'TotalQuantity',\n",
    "    'ProductID': 'UniqueProducts'\n",
    "}).reset_index()"
   ]
  },
  {
   "cell_type": "markdown",
   "id": "0c495b7f",
   "metadata": {},
   "source": [
    "# Merge with customer information "
   ]
  },
  {
   "cell_type": "code",
   "execution_count": 14,
   "id": "7cbdf237",
   "metadata": {},
   "outputs": [],
   "source": [
    "customer_profiles = customers.merge(customer_features, on='CustomerID', how='left')\n",
    "customer_profiles.fillna(0, inplace=True)"
   ]
  },
  {
   "cell_type": "markdown",
   "id": "775f9f59",
   "metadata": {},
   "source": [
    "# Normalize features for similarity calculation"
   ]
  },
  {
   "cell_type": "code",
   "execution_count": 15,
   "id": "333ffafb",
   "metadata": {},
   "outputs": [],
   "source": [
    "scaler = StandardScaler()\n",
    "features_to_scale = ['TotalSpent', 'TotalQuantity', 'AvgPrice', 'UniqueProducts']\n",
    "customer_profiles[features_to_scale] = scaler.fit_transform(customer_profiles[features_to_scale])"
   ]
  },
  {
   "cell_type": "markdown",
   "id": "4ddbc32e",
   "metadata": {},
   "source": [
    "# Compute similarity matrix"
   ]
  },
  {
   "cell_type": "code",
   "execution_count": 16,
   "id": "eb9a4a23",
   "metadata": {},
   "outputs": [],
   "source": [
    "customer_ids = customer_profiles['CustomerID']\n",
    "customer_features_scaled = customer_profiles[features_to_scale]\n",
    "similarity_matrix = cosine_similarity(customer_features_scaled)"
   ]
  },
  {
   "cell_type": "markdown",
   "id": "e2c2b87e",
   "metadata": {},
   "source": [
    "# Create a Lookalike.csv file "
   ]
  },
  {
   "cell_type": "code",
   "execution_count": 17,
   "id": "e0e79eef",
   "metadata": {},
   "outputs": [],
   "source": [
    "lookalike_results = {}\n",
    "for i, customer_id in enumerate(customer_ids[:20]):\n",
    "    similarity_scores = list(enumerate(similarity_matrix[i]))\n",
    "    # Exclude self-similarity and sort by score\n",
    "    similarity_scores = [(customer_ids[j], score) for j, score in similarity_scores if j != i]\n",
    "    similarity_scores = sorted(similarity_scores, key=lambda x: x[1], reverse=True)[:3]\n",
    "    lookalike_results[customer_id] = similarity_scores"
   ]
  },
  {
   "cell_type": "markdown",
   "id": "bb4e0719",
   "metadata": {},
   "source": [
    "# Save results to Lookalike.csv"
   ]
  },
  {
   "cell_type": "code",
   "execution_count": 18,
   "id": "dad229a4",
   "metadata": {},
   "outputs": [],
   "source": [
    "lookalike_df = pd.DataFrame({\n",
    "    'CustomerID': list(lookalike_results.keys()),\n",
    "    'Lookalikes': [str(value) for value in lookalike_results.values()]\n",
    "})\n",
    "lookalike_df.to_csv('Lookalike.csv', index=False)"
   ]
  },
  {
   "cell_type": "markdown",
   "id": "5780e679",
   "metadata": {},
   "source": [
    " # Example Output"
   ]
  },
  {
   "cell_type": "code",
   "execution_count": 19,
   "id": "73654aab",
   "metadata": {},
   "outputs": [
    {
     "name": "stdout",
     "output_type": "stream",
     "text": [
      "  CustomerID                                         Lookalikes\n",
      "0      C0001  [('C0137', 0.9701731901666669), ('C0103', 0.93...\n",
      "1      C0002  [('C0029', 0.9998288399426515), ('C0077', 0.99...\n",
      "2      C0003  [('C0010', 0.9512746713612762), ('C0111', 0.92...\n",
      "3      C0004  [('C0075', 0.997040053875391), ('C0175', 0.985...\n",
      "4      C0005  [('C0130', 0.9976868953366967), ('C0128', 0.99...\n"
     ]
    }
   ],
   "source": [
    "print(lookalike_df.head())"
   ]
  }
 ],
 "metadata": {
  "kernelspec": {
   "display_name": "Python 3 (ipykernel)",
   "language": "python",
   "name": "python3"
  },
  "language_info": {
   "codemirror_mode": {
    "name": "ipython",
    "version": 3
   },
   "file_extension": ".py",
   "mimetype": "text/x-python",
   "name": "python",
   "nbconvert_exporter": "python",
   "pygments_lexer": "ipython3",
   "version": "3.9.13"
  }
 },
 "nbformat": 4,
 "nbformat_minor": 5
}
